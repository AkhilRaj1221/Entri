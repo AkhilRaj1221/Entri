{
 "cells": [
  {
   "cell_type": "code",
   "execution_count": 2,
   "id": "dc6ea3bb-4863-499b-a6a5-92053d2ffea6",
   "metadata": {},
   "outputs": [
    {
     "name": "stdout",
     "output_type": "stream",
     "text": [
      "Index(['Comment', 'Emotion'], dtype='object')\n",
      "                                             Comment Emotion\n",
      "0  i seriously hate one subject to death but now ...    fear\n",
      "1                 im so full of life i feel appalled   anger\n",
      "2  i sit here to write i start to dig out my feel...    fear\n",
      "3  ive been really angry with r and i feel like a...     joy\n",
      "4  i feel suspicious if there is no one outside l...    fear\n",
      "Naive Bayes Performance:\n",
      "               precision    recall  f1-score   support\n",
      "\n",
      "       anger       0.88      0.94      0.91       392\n",
      "        fear       0.92      0.92      0.92       416\n",
      "         joy       0.94      0.88      0.91       380\n",
      "\n",
      "    accuracy                           0.91      1188\n",
      "   macro avg       0.91      0.91      0.91      1188\n",
      "weighted avg       0.91      0.91      0.91      1188\n",
      "\n",
      "SVM Performance:\n",
      "               precision    recall  f1-score   support\n",
      "\n",
      "       anger       0.93      0.95      0.94       392\n",
      "        fear       0.97      0.92      0.94       416\n",
      "         joy       0.93      0.97      0.95       380\n",
      "\n",
      "    accuracy                           0.94      1188\n",
      "   macro avg       0.94      0.94      0.94      1188\n",
      "weighted avg       0.94      0.94      0.94      1188\n",
      "\n"
     ]
    }
   ],
   "source": [
    "import pandas as pd\n",
    "import re\n",
    "import string\n",
    "from sklearn.feature_extraction.text import ENGLISH_STOP_WORDS\n",
    "from sklearn.feature_extraction.text import TfidfVectorizer\n",
    "from sklearn.model_selection import train_test_split\n",
    "from sklearn.naive_bayes import MultinomialNB\n",
    "from sklearn.svm import SVC\n",
    "from sklearn.metrics import classification_report\n",
    "url = 'https://drive.google.com/uc?id=1HWczIICsMpaL8EJyu48ZvRFcXx3_pcnb'\n",
    "df = pd.read_csv(url)\n",
    "\n",
    "print(df.columns)\n",
    "print(df.head())\n",
    "def preprocess_text(text):\n",
    "    text = text.lower()\n",
    "    text = ''.join([char for char in text if char not in string.punctuation])\n",
    "    tokens = text.split()\n",
    "    tokens = [word for word in tokens if word not in ENGLISH_STOP_WORDS]\n",
    "    return ' '.join(tokens)\n",
    "df['processed_text'] = df['Comment'].apply(preprocess_text)\n",
    "vectorizer = TfidfVectorizer(max_features=5000)\n",
    "X = vectorizer.fit_transform(df['processed_text'])\n",
    "X_train, X_test, y_train, y_test = train_test_split(X, df['Emotion'], test_size=0.2, random_state=42)\n",
    "nb_model = MultinomialNB()\n",
    "nb_model.fit(X_train, y_train)\n",
    "svm_model = SVC()\n",
    "svm_model.fit(X_train, y_train)\n",
    "nb_predictions = nb_model.predict(X_test)\n",
    "svm_predictions = svm_model.predict(X_test)\n",
    "print(\"Naive Bayes Performance:\\n\", classification_report(y_test, nb_predictions))\n",
    "print(\"SVM Performance:\\n\", classification_report(y_test, svm_predictions))\n"
   ]
  }
 ],
 "metadata": {
  "kernelspec": {
   "display_name": "Python 3",
   "language": "python",
   "name": "python3"
  },
  "language_info": {
   "codemirror_mode": {
    "name": "ipython",
    "version": 3
   },
   "file_extension": ".py",
   "mimetype": "text/x-python",
   "name": "python",
   "nbconvert_exporter": "python",
   "pygments_lexer": "ipython3",
   "version": "3.12.2"
  }
 },
 "nbformat": 4,
 "nbformat_minor": 5
}
