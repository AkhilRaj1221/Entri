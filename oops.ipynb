{
  "nbformat": 4,
  "nbformat_minor": 0,
  "metadata": {
    "colab": {
      "provenance": [],
      "authorship_tag": "ABX9TyOLbBrQts8vnxjDx5/h6g3h",
      "include_colab_link": true
    },
    "kernelspec": {
      "name": "python3",
      "display_name": "Python 3"
    },
    "language_info": {
      "name": "python"
    }
  },
  "cells": [
    {
      "cell_type": "markdown",
      "metadata": {
        "id": "view-in-github",
        "colab_type": "text"
      },
      "source": [
        "<a href=\"https://colab.research.google.com/github/AkhilRaj1221/Entri/blob/main/oops.ipynb\" target=\"_parent\"><img src=\"https://colab.research.google.com/assets/colab-badge.svg\" alt=\"Open In Colab\"/></a>"
      ]
    },
    {
      "cell_type": "markdown",
      "source": [
        "1.  Write a Python program to create a class representing a Circle. Include methods to calculate its area and perimeter."
      ],
      "metadata": {
        "id": "Q1kVJs-brLO_"
      }
    },
    {
      "cell_type": "code",
      "execution_count": 1,
      "metadata": {
        "colab": {
          "base_uri": "https://localhost:8080/"
        },
        "id": "ZTE1LAkUq_MU",
        "outputId": "2ec503aa-99c6-4808-f5e3-499be2d86f99"
      },
      "outputs": [
        {
          "output_type": "stream",
          "name": "stdout",
          "text": [
            "Enter the radius of the circle: 180\n",
            "Area of the circle: 101787.60\n",
            "Perimeter of the circle: 1130.97\n"
          ]
        }
      ],
      "source": [
        "import math\n",
        "\n",
        "class Circle:\n",
        "    def __init__(self, radius):\n",
        "        self.radius = radius\n",
        "\n",
        "    def area(self):\n",
        "        return math.pi * self.radius ** 2\n",
        "\n",
        "    def perimeter(self):\n",
        "        return 2 * math.pi * self.radius\n",
        "radius = float(input(\"Enter the radius of the circle: \"))\n",
        "circle = Circle(radius)\n",
        "\n",
        "print(f\"Area of the circle: {circle.area():.2f}\")\n",
        "print(f\"Perimeter of the circle: {circle.perimeter():.2f}\")\n"
      ]
    },
    {
      "cell_type": "markdown",
      "source": [
        "2. Write a Python program to create a calculator class. Include methods for basic arithmetic operations.\n"
      ],
      "metadata": {
        "id": "W31wKYHArZXF"
      }
    },
    {
      "cell_type": "code",
      "source": [
        "class Calculator:\n",
        "    def add(self, a, b):\n",
        "        return a + b\n",
        "\n",
        "    def subtract(self, a, b):\n",
        "        return a - b\n",
        "\n",
        "    def multiply(self, a, b):\n",
        "        return a * b\n",
        "\n",
        "    def divide(self, a, b):\n",
        "        if b == 0:\n",
        "            return \"Error! Division by zero.\"\n",
        "        return a / b\n",
        "calculator = Calculator()\n",
        "\n",
        "print(\"Select operation:\")\n",
        "print(\"1. Add\")\n",
        "print(\"2. Subtract\")\n",
        "print(\"3. Multiply\")\n",
        "print(\"4. Divide\")\n",
        "\n",
        "operation = input(\"Enter choice (1/2/3/4): \")\n",
        "\n",
        "num1 = float(input(\"Enter first number: \"))\n",
        "num2 = float(input(\"Enter second number: \"))\n",
        "\n",
        "if operation == '1':\n",
        "    print(f\"{num1} + {num2} = {calculator.add(num1, num2)}\")\n",
        "elif operation == '2':\n",
        "    print(f\"{num1} - {num2} = {calculator.subtract(num1, num2)}\")\n",
        "elif operation == '3':\n",
        "    print(f\"{num1} * {num2} = {calculator.multiply(num1, num2)}\")\n",
        "elif operation == '4':\n",
        "    print(f\"{num1} / {num2} = {calculator.divide(num1, num2)}\")\n",
        "else:\n",
        "    print(\"Invalid input\")\n"
      ],
      "metadata": {
        "colab": {
          "base_uri": "https://localhost:8080/"
        },
        "id": "vlHULC-jrdS4",
        "outputId": "463b955d-1e06-4d40-868e-f2a5f4a62bfd"
      },
      "execution_count": 2,
      "outputs": [
        {
          "output_type": "stream",
          "name": "stdout",
          "text": [
            "Select operation:\n",
            "1. Add\n",
            "2. Subtract\n",
            "3. Multiply\n",
            "4. Divide\n",
            "Enter choice (1/2/3/4): 4\n",
            "Enter first number: 80\n",
            "Enter second number: 20\n",
            "80.0 / 20.0 = 4.0\n"
          ]
        }
      ]
    },
    {
      "cell_type": "markdown",
      "source": [
        "3. Write a Python program to create a class that represents a shape. Include methods to calculate its area and perimeter. Implement subclasses for different shapes like circle, triangle, and square."
      ],
      "metadata": {
        "id": "MPYO462Rrspl"
      }
    },
    {
      "cell_type": "code",
      "source": [
        "import math\n",
        "\n",
        "class Shape:\n",
        "    def area(self):\n",
        "        pass\n",
        "\n",
        "    def perimeter(self):\n",
        "        pass\n",
        "\n",
        "class Circle(Shape):\n",
        "    def __init__(self, radius):\n",
        "        self.radius = radius\n",
        "\n",
        "    def area(self):\n",
        "        return math.pi * self.radius ** 2\n",
        "\n",
        "    def perimeter(self):\n",
        "        return 2 * math.pi * self.radius\n",
        "\n",
        "class Triangle(Shape):\n",
        "    def __init__(self, base, height, side1, side2, side3):\n",
        "        self.base = base\n",
        "        self.height = height\n",
        "        self.side1 = side1\n",
        "        self.side2 = side2\n",
        "        self.side3 = side3\n",
        "\n",
        "    def area(self):\n",
        "        return 0.5 * self.base * self.height\n",
        "\n",
        "    def perimeter(self):\n",
        "        return self.side1 + self.side2 + self.side3\n",
        "\n",
        "class Square(Shape):\n",
        "    def __init__(self, side):\n",
        "        self.side = side\n",
        "\n",
        "    def area(self):\n",
        "        return self.side ** 2\n",
        "\n",
        "    def perimeter(self):\n",
        "        return 4 * self.side\n",
        "circle = Circle(5)\n",
        "triangle = Triangle(6, 8, 5, 5, 5)\n",
        "square = Square(4)\n",
        "\n",
        "print(\"Circle:\")\n",
        "print(f\"Area: {circle.area():.2f}\")\n",
        "print(f\"Perimeter: {circle.perimeter():.2f}\")\n",
        "\n",
        "print(\"\\nTriangle:\")\n",
        "print(f\"Area: {triangle.area():.2f}\")\n",
        "print(f\"Perimeter: {triangle.perimeter():.2f}\")\n",
        "\n",
        "print(\"\\nSquare:\")\n",
        "print(f\"Area: {square.area():.2f}\")\n",
        "print(f\"Perimeter: {square.perimeter():.2f}\")\n"
      ],
      "metadata": {
        "colab": {
          "base_uri": "https://localhost:8080/"
        },
        "id": "T658rmpertM_",
        "outputId": "a9fa88fd-3c81-42a5-a2b0-a10ee3e12565"
      },
      "execution_count": 3,
      "outputs": [
        {
          "output_type": "stream",
          "name": "stdout",
          "text": [
            "Circle:\n",
            "Area: 78.54\n",
            "Perimeter: 31.42\n",
            "\n",
            "Triangle:\n",
            "Area: 24.00\n",
            "Perimeter: 15.00\n",
            "\n",
            "Square:\n",
            "Area: 16.00\n",
            "Perimeter: 16.00\n"
          ]
        }
      ]
    }
  ]
}